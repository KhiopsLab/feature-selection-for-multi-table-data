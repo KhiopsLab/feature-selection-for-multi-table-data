{
 "cells": [
  {
   "cell_type": "markdown",
   "id": "3e391ca8",
   "metadata": {},
   "source": [
    "# FS4MT : Features selection for multi-table data\n",
    "## Practical exercise on the *Accident* dataset"
   ]
  },
  {
   "cell_type": "markdown",
   "id": "2d442caf",
   "metadata": {},
   "source": [
    "This tool allows variables (columns in secondary tables) to be filtered in a multi-table schema prior to supervised classification.\n",
    "\n",
    "Current tools only take into account variables in the main table. We propose a method for exploring data in secondary tables in order to extract parameters relevant to classification. By selecting only the parameters that carry information, the classification task is simplified, reducing processing time. The parameters taken into account here are the native secondary variables (variables present in the secondary tables) and the construction primitives (mathematical rules).\n",
    "\n",
    "This system initially focused on creating a measure of the importance of variables and primitives in relation to the target variable. The ultimate goal is to reduce the space of primitives and variables in order to select only the relevant elements.\n",
    "\n",
    "\n",
    "**Method used**\n",
    "\n",
    "The importance estimation method used is a univariate method with discretisation of the Count variable to limit the effect of noise on the secondary tables.\n",
    "\n",
    "\n",
    "**Organisation** \n",
    "\n",
    "The **fs4mt** library consists of the following directories:\n",
    "* DATA: 2 datasets:\n",
    "  - Accident: from the road accident database, we consider here the tables in star schema form\n",
    "  - synth1: Orange synthetic data\n",
    "* library: 2 Python classes \n",
    "* notebook: notebooks analysing each of the 2 datasets\n",
    "* readme\n"
   ]
  },
  {
   "cell_type": "code",
   "execution_count": 1,
   "id": "654855c0-003d-4734-81ea-fd2de74d4ded",
   "metadata": {},
   "outputs": [],
   "source": [
    "# Import packages\n",
    "import os\n",
    "from khiops import core as kh\n",
    "import warnings\n",
    "import sys"
   ]
  },
  {
   "cell_type": "code",
   "execution_count": 3,
   "id": "ab757a64-f5d9-40c9-a906-26978bd38ec8",
   "metadata": {},
   "outputs": [],
   "source": [
    "# Import FS4MT\n",
    "from fs4mt.class_UnivariateMultitableAnalysis import UnivariateMultitableAnalysis\n",
    "from fs4mt.class_VariableSelectionStatistics import VariableSelectionStatistics\n",
    "from fs4mt.class_UnivariateMultitableAnalysis import add_noise"
   ]
  },
  {
   "cell_type": "markdown",
   "id": "fffbb69f",
   "metadata": {},
   "source": [
    "<div style=\"background-color:MediumSeaGreen; text-align:center; vertical-align: middle; padding:40px 0; color:white\">\n",
    "\n",
    "## For the dataset accident_star\n",
    "## Load data and initialize dictionary with 10 noise variables"
   ]
  },
  {
   "cell_type": "code",
   "execution_count": 4,
   "id": "dc3c3dcd-ae4b-49f9-8fd3-d9cf56fa72d4",
   "metadata": {},
   "outputs": [],
   "source": [
    "# Set data information for the dataset “Accident”\n",
    "\n",
    "data_path = os.path.join(\"..\", \"DATA\", \"Accident\") # data directory\n",
    "dictionary_file_path = os.path.join(data_path, \"Accidents_etoile.kdic\") # Khiops dictionary\n",
    "data_table_path = os.path.join(data_path, \"Accidents.txt\") # main table\n",
    "vehicle_table_path = os.path.join(data_path, \"Vehicles.txt\") # secondary table\n",
    "user_table_path = os.path.join(data_path, \"Users.txt\") # secondary table\n",
    "place_table_path = os.path.join(data_path, \"Places.txt\") # secondary table\n",
    "main_dictionary_name = \"Accident\" # name in the Khiops dictionary\n",
    "# A dictionary containing the data paths and file paths for a multi-table dictionary file\n",
    "additional_data_tables = {\n",
    "    main_dictionary_name + \"`Place\": place_table_path,\n",
    "    main_dictionary_name + \"`Vehicles\": vehicle_table_path,\n",
    "    main_dictionary_name + \"`Users\": user_table_path,\n",
    "}\n",
    "target = \"Gravity\" # target variable to predict"
   ]
  },
  {
   "cell_type": "code",
   "execution_count": 5,
   "id": "b74decbc-869b-4520-a0a7-9dd403eea428",
   "metadata": {},
   "outputs": [],
   "source": [
    "# Create dictionary with 10 noise variables\n",
    "# If the file exists it is not overwritten\n",
    "\n",
    "dictionary_file_path_noise = os.path.join(data_path, \"noisy_dictionary.kdic\")\n",
    "if not os.path.exists(dictionary_file_path_noise):\n",
    "    dictionary_domain_10, _ = add_noise(\n",
    "        kh.read_dictionary_file(dictionary_file_path), 10\n",
    "    )\n",
    "    dictionary_domain_10.export_khiops_dictionary_file(dictionary_file_path_noise)"
   ]
  },
  {
   "cell_type": "code",
   "execution_count": null,
   "id": "23798f37-4077-4806-9aa9-fbaf97813ee4",
   "metadata": {},
   "outputs": [],
   "source": []
  },
  {
   "cell_type": "markdown",
   "id": "f8f81cad",
   "metadata": {},
   "source": [
    "<div style=\"background-color:LightGreen; text-align:center; vertical-align: middle; padding:40px 0;\">\n",
    "    \n",
    "## analysis of the accident_star dataset"
   ]
  },
  {
   "cell_type": "markdown",
   "id": "8a44a650-ea5d-419d-9d72-3093292ffc5a",
   "metadata": {},
   "source": [
    "<div style=\"background-color:LightSalmon; text-align:center; vertical-align: middle; padding:10px 0;\">\n",
    "exploration_type = \"Variable\" with count_effect_reduction = True"
   ]
  },
  {
   "cell_type": "code",
   "execution_count": 6,
   "id": "1a62722e-4e9d-4960-8360-e8b73c9b0bd7",
   "metadata": {},
   "outputs": [],
   "source": [
    "# Initialization of results and output directories names\n",
    "output_khiops_dir = \"output_khiops_discretization\" # Path of the output khiops analysis directory, default \"output_khiops\"\n",
    "results_dir = \"results_discretization\" # Path of the results directory, default \"results\"\n",
    "\n",
    "# Initialization of analysis parameters (here default parameters)\n",
    "exploration_type = \"Variable\" # Parameter to be analyze, 'All' for both variable and primitive, 'Variable' or 'Primitive' for only variable or primitive, default to 'Variable'. \n",
    "count_effect_reduction = True # State of discretization, True is used, default to True."
   ]
  },
  {
   "cell_type": "markdown",
   "id": "4aefb76c-a8f5-4058-9f48-635861b6abb3",
   "metadata": {},
   "source": [
    "<div style=\"background-color:LightGreen; text-align:center; vertical-align: middle; padding:10px 0;\">\n",
    "univariate analysis of secondary table variables"
   ]
  },
  {
   "cell_type": "code",
   "execution_count": 7,
   "id": "996369f1-9a9c-43c4-99a4-264465a45222",
   "metadata": {},
   "outputs": [
    {
     "name": "stdout",
     "output_type": "stream",
     "text": [
      "table : Place\n"
     ]
    },
    {
     "name": "stderr",
     "output_type": "stream",
     "text": [
      "  0%|                                                                                           | 0/28 [00:00<?, ?it/s]C:\\Applications\\Python\\Lib\\site-packages\\khiops\\core\\api.py:310: UserWarning: 'results_prefix' is deprecated and will be removed by version 11.0.0. There will be no replacement when removed.\n",
      "  warnings.warn(\n",
      "C:\\Applications\\Python\\Lib\\site-packages\\khiops\\core\\internals\\runner.py:658: UserWarning: Khiops ended correctly but there were minor issues:\n",
      "Warnings in log:\n",
      "Line 4: warning : Data preparation Accident Gravity : No input variable in analysis dictionary Accident\n",
      "  warnings.warn(error_msg.rstrip())\n",
      "100%|██████████████████████████████████████████████████████████████████████████████████| 28/28 [00:25<00:00,  1.09it/s]\n"
     ]
    },
    {
     "name": "stdout",
     "output_type": "stream",
     "text": [
      "table : Vehicles\n",
      "discretization : group 1/2\n"
     ]
    },
    {
     "name": "stderr",
     "output_type": "stream",
     "text": [
      "  0%|                                                                                           | 0/19 [00:00<?, ?it/s]C:\\Applications\\Python\\Lib\\site-packages\\khiops\\core\\api.py:310: UserWarning: 'results_prefix' is deprecated and will be removed by version 11.0.0. There will be no replacement when removed.\n",
      "  warnings.warn(\n",
      "100%|██████████████████████████████████████████████████████████████████████████████████| 19/19 [00:29<00:00,  1.54s/it]\n"
     ]
    },
    {
     "name": "stdout",
     "output_type": "stream",
     "text": [
      "discretization : group 2/2\n"
     ]
    },
    {
     "name": "stderr",
     "output_type": "stream",
     "text": [
      "100%|██████████████████████████████████████████████████████████████████████████████████| 19/19 [00:34<00:00,  1.79s/it]\n"
     ]
    },
    {
     "name": "stdout",
     "output_type": "stream",
     "text": [
      "table : Users\n",
      "discretization : group 1/3\n"
     ]
    },
    {
     "name": "stderr",
     "output_type": "stream",
     "text": [
      "  0%|                                                                                           | 0/23 [00:00<?, ?it/s]C:\\Applications\\Python\\Lib\\site-packages\\khiops\\core\\api.py:310: UserWarning: 'results_prefix' is deprecated and will be removed by version 11.0.0. There will be no replacement when removed.\n",
      "  warnings.warn(\n",
      "100%|██████████████████████████████████████████████████████████████████████████████████| 23/23 [00:32<00:00,  1.41s/it]\n"
     ]
    },
    {
     "name": "stdout",
     "output_type": "stream",
     "text": [
      "discretization : group 2/3\n"
     ]
    },
    {
     "name": "stderr",
     "output_type": "stream",
     "text": [
      "100%|██████████████████████████████████████████████████████████████████████████████████| 23/23 [00:38<00:00,  1.67s/it]\n"
     ]
    },
    {
     "name": "stdout",
     "output_type": "stream",
     "text": [
      "discretization : group 3/3\n"
     ]
    },
    {
     "name": "stderr",
     "output_type": "stream",
     "text": [
      "100%|██████████████████████████████████████████████████████████████████████████████████| 23/23 [00:35<00:00,  1.53s/it]"
     ]
    },
    {
     "name": "stdout",
     "output_type": "stream",
     "text": [
      "\n",
      "Khiops reports saved in \"output_khiops_discretization\" directory\n",
      "\n",
      "Variables exploration report in json format saved : results_discretization\\variable_exploration.json\n",
      "\n",
      "\n",
      "CPU times: total: 281 ms\n",
      "Wall time: 3min 21s\n"
     ]
    },
    {
     "name": "stderr",
     "output_type": "stream",
     "text": [
      "\n"
     ]
    }
   ],
   "source": [
    "%%time\n",
    "\n",
    "# Create the multi-table analysis object UnivariateMultitableAnalysis\n",
    "obj_discret = UnivariateMultitableAnalysis(\n",
    "    dictionary_file_path_noise, # Path of a Khiops dictionary file.\n",
    "    main_dictionary_name, # Name of the dictionary to be analyzed.\n",
    "    data_table_path, # Path of the data table file.\n",
    "    additional_data_tables, # A dictionary containing the data paths and file paths for a multi-table dictionary file.\n",
    "    target, # Name of the target variable.\n",
    "    exploration_type=exploration_type, # Parameter to be analyze, 'All' for both variable and primitive, 'Variable' or 'Primitive' for only variable or primitive, default to 'Variable'. \n",
    "    count_effect_reduction=count_effect_reduction, # State of discretization, True is used, default to True.\n",
    "    output_khiops_dir=output_khiops_dir, # Path of the output khiops analysis directory, defaults to \"output_khiops\".\n",
    "    results_dir=results_dir, #Path of the results directory, defaults to \"results\".\n",
    ")\n",
    "\n",
    "# Compute importance variable list, return a python dictionary\n",
    "variable_importance_dictionary_discret = obj_discret.variables_analysis()"
   ]
  },
  {
   "cell_type": "markdown",
   "id": "7ae4f5a0-9f07-4bc4-ba5a-441c150c50b9",
   "metadata": {},
   "source": [
    "<div style=\"background-color:LightGreen; text-align:center; vertical-align: middle; padding:10px 0;\">\n",
    "statistics from univariate analysis of secondary table variables"
   ]
  },
  {
   "cell_type": "code",
   "execution_count": 8,
   "id": "850813c1-9b70-45ec-9593-fc49a923956b",
   "metadata": {},
   "outputs": [
    {
     "name": "stdout",
     "output_type": "stream",
     "text": [
      "    rank     table            variable         type   levelMT   \n",
      "0      1     Place          RoadNumber  Categorical  0.059002  \\\n",
      "1      2     Place            RoadType  Categorical  0.053591   \n",
      "2      3     Place  RoadMarkerDistance    Numerical  0.050187   \n",
      "3      4     Place        RoadMarkerId  Categorical  0.049178   \n",
      "4      5     Users  PedestrianLocation  Categorical  0.047309   \n",
      "..   ...       ...                 ...          ...       ...   \n",
      "64    65     Place                 N_3    Numerical  0.000000   \n",
      "65    66     Place                 N_4    Numerical  0.000000   \n",
      "66    67  Vehicles     PassengerNumber    Numerical  0.000000   \n",
      "67    68     Place       RoadSecNumber  Categorical  0.000000   \n",
      "68    69     Place    SurfaceCondition  Categorical  0.000000   \n",
      "\n",
      "                                 levelMT aggregate  real number of aggregates   \n",
      "0                                 Place.RoadNumber                          1  \\\n",
      "1                                   Place.RoadType                          1   \n",
      "2                         Place.RoadMarkerDistance                          1   \n",
      "3                               Place.RoadMarkerId                          1   \n",
      "4   Count(Users) where PedestrianLocation is empty                         14   \n",
      "..                                             ...                        ...   \n",
      "64                                                                          1   \n",
      "65                                                                          1   \n",
      "66                                                                         20   \n",
      "67                                                                          1   \n",
      "68                                                                          1   \n",
      "\n",
      "                     importances list  \n",
      "0                         [0.0590025]  \n",
      "1                         [0.0535911]  \n",
      "2                         [0.0501869]  \n",
      "3                         [0.0491784]  \n",
      "4   [0.0362819, 0.0327855, 0.0473089]  \n",
      "..                                ...  \n",
      "64                                [0]  \n",
      "65                                [0]  \n",
      "66                             [0, 0]  \n",
      "67                                [0]  \n",
      "68                                [0]  \n",
      "\n",
      "[69 rows x 8 columns]\n",
      "Variables results loaded\n"
     ]
    }
   ],
   "source": [
    "# Create Variable Statistics object VariableSelectionStatistics\n",
    "obj_stat_discret = VariableSelectionStatistics(\n",
    "    dictionary_file_path_noise, #  Path of a Khiops dictionary file.\n",
    "    exploration_type=exploration_type, # Parameter to be analyze, 'All' for both variable and primitive, 'Variable' or 'Primitive' for only variable or primitive, default to 'Variable'. \n",
    "    count_effect_reduction=count_effect_reduction, # State of discretization, True is used, default to True.\n",
    "    results_dir=results_dir, #Path of the results directory, defaults to \"results\".\n",
    ")\n",
    "\n",
    "# read the variables analysis, return a dataframe with variables importance\n",
    "df_variable_exploration_discret = obj_stat_discret.get_variables_analysis()"
   ]
  },
  {
   "cell_type": "code",
   "execution_count": 9,
   "id": "7abc31e9-dced-4bcc-bddd-dff7e1961b36",
   "metadata": {},
   "outputs": [
    {
     "name": "stdout",
     "output_type": "stream",
     "text": [
      "Report file saved : results_discretization\\variable_exploration.txt\n"
     ]
    }
   ],
   "source": [
    "# write tabulate report\n",
    "obj_stat_discret.write_to_csv_report(df_variable_exploration_discret)"
   ]
  },
  {
   "cell_type": "code",
   "execution_count": 10,
   "id": "5c705b77-30fe-405a-9942-912a1194d6fe",
   "metadata": {},
   "outputs": [
    {
     "name": "stdout",
     "output_type": "stream",
     "text": [
      "Number of variables with level zero : 28\n",
      "\n",
      "Filtering 10 variables with low level :\n",
      "Warning : the number of variables specified for filtering (10) is less than the number of variables with a level 0 (28), the filtered variables are taken starting from the end (in alphabetical order)\n",
      "Dictionary saved : ..\\DATA\\Accident\\reduced_dictionary_filter_10.kdic\n",
      "\n",
      "Filtering all variables with level zero :\n",
      "The variable 'AccidentId' in the table 'Place' is a key, it is not set to Unused\n",
      "The variable 'AccidentId' in the table 'User' is a key, it is not set to Unused\n",
      "The variable 'AccidentId' in the table 'Vehicle' is a key, it is not set to Unused\n",
      "Dictionary saved : ..\\DATA\\Accident\\reduced_dictionary_level_0.kdic\n"
     ]
    }
   ],
   "source": [
    "# Print the number of variables with level zero\n",
    "nb_zero_discret = obj_stat_discret.get_variable_number_zero_level(\n",
    "    df_variable_exploration_discret\n",
    ")\n",
    "\n",
    "# filter khiops dictionary : generate and save a filtered Khiops dictionary\n",
    "# filter the 10 variables with low level in dictionary\n",
    "obj_stat_discret.filter_variables_in_dictionary(df_variable_exploration_discret, 10)\n",
    "\n",
    "# if None then filter all variables with level zero\n",
    "obj_stat_discret.filter_variables_in_dictionary(df_variable_exploration_discret)"
   ]
  },
  {
   "cell_type": "code",
   "execution_count": null,
   "id": "8a3acecf-6daf-434f-9573-6459caf725b9",
   "metadata": {},
   "outputs": [],
   "source": []
  }
 ],
 "metadata": {
  "kernelspec": {
   "display_name": "Python 3 (ipykernel)",
   "language": "python",
   "name": "python3"
  },
  "language_info": {
   "codemirror_mode": {
    "name": "ipython",
    "version": 3
   },
   "file_extension": ".py",
   "mimetype": "text/x-python",
   "name": "python",
   "nbconvert_exporter": "python",
   "pygments_lexer": "ipython3",
   "version": "3.11.9"
  }
 },
 "nbformat": 4,
 "nbformat_minor": 5
}
