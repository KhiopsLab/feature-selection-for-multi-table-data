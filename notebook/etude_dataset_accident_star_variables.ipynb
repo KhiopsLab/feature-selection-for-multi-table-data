{
 "cells": [
  {
   "cell_type": "markdown",
   "id": "3e391ca8",
   "metadata": {},
   "source": [
    "# FS4MT : Features selection for multi-table data\n",
    "## Practical exercise on the *Accident* dataset"
   ]
  },
  {
   "cell_type": "markdown",
   "id": "2d442caf",
   "metadata": {},
   "source": [
    "This tool allows variables (columns in secondary tables) to be filtered in a multi-table schema prior to supervised classification.\n",
    "\n",
    "Current tools only take into account variables in the main table. We propose a method for exploring data in secondary tables in order to extract parameters relevant to classification. By selecting only the parameters that carry information, the classification task is simplified, reducing processing time. The parameters taken into account here are the native secondary variables (variables present in the secondary tables) and the construction primitives (mathematical rules).\n",
    "\n",
    "This system initially focused on creating a measure of the importance of variables and primitives in relation to the target variable. The ultimate goal is to reduce the space of primitives and variables in order to select only the relevant elements.\n",
    "\n",
    "\n",
    "**Method used**\n",
    "\n",
    "The importance estimation method used is a univariate method with discretisation of the Count variable to limit the effect of noise on the secondary tables.\n",
    "\n",
    "\n",
    "**Organisation** \n",
    "\n",
    "The **fs4mt** library consists of the following directories:\n",
    "* DATA: 2 datasets:\n",
    "  - Accident: from the road accident database, we consider here the tables in star schema form\n",
    "  - synth1: Orange synthetic data\n",
    "* library: 2 Python classes \n",
    "* notebook: notebooks analysing each of the 2 datasets\n",
    "* readme\n"
   ]
  },
  {
   "cell_type": "code",
   "execution_count": 1,
   "id": "654855c0-003d-4734-81ea-fd2de74d4ded",
   "metadata": {},
   "outputs": [],
   "source": [
    "# Import python packages\n",
    "import os\n",
    "from khiops import core as kh\n",
    "import warnings\n",
    "import sys"
   ]
  },
  {
   "cell_type": "code",
   "execution_count": 2,
   "id": "58de9bd8-f607-4c39-9b36-d586d5c7114c",
   "metadata": {},
   "outputs": [],
   "source": [
    "os.environ[\"KHIOPS_PROC_NUMBER\"] = \"8\"\n",
    "warnings.filterwarnings(\"ignore\")"
   ]
  },
  {
   "cell_type": "code",
   "execution_count": 3,
   "id": "3bbe749d",
   "metadata": {
    "tags": []
   },
   "outputs": [],
   "source": [
    "os.chdir(\"..\")"
   ]
  },
  {
   "cell_type": "code",
   "execution_count": 4,
   "id": "0a18cd1c-f2a9-44d6-92f9-748a15ee4639",
   "metadata": {},
   "outputs": [
    {
     "data": {
      "text/plain": [
       "'C:\\\\Users\\\\QRBS5531\\\\Mes dossiers\\\\OF\\\\ScoringFutur\\\\fs4mt_tool'"
      ]
     },
     "execution_count": 4,
     "metadata": {},
     "output_type": "execute_result"
    }
   ],
   "source": [
    "pwd"
   ]
  },
  {
   "cell_type": "code",
   "execution_count": 5,
   "id": "ab757a64-f5d9-40c9-a906-26978bd38ec8",
   "metadata": {},
   "outputs": [],
   "source": [
    "from fs4mt.class_UnivariateMultitableAnalysis import UnivariateMultitableAnalysis\n",
    "from fs4mt.class_VariableSelectionStatistics import VariableSelectionStatistics\n",
    "from fs4mt.class_UnivariateMultitableAnalysis import get_dataset\n",
    "from fs4mt.class_UnivariateMultitableAnalysis import add_noise"
   ]
  },
  {
   "cell_type": "code",
   "execution_count": 13,
   "id": "f6c60c0b",
   "metadata": {
    "tags": []
   },
   "outputs": [],
   "source": [
    "DataPath = os.path.join(\".\")\n",
    "DataLibPath = os.path.join(DataPath, \"fs4mt\")\n",
    "if DataLibPath not in sys.path:\n",
    "    sys.path.append(DataLibPath)"
   ]
  },
  {
   "cell_type": "markdown",
   "id": "fffbb69f",
   "metadata": {},
   "source": [
    "<div style=\"background-color:MediumSeaGreen; text-align:center; vertical-align: middle; padding:40px 0; color:white\">\n",
    "\n",
    "## dataset accident_star\n",
    "## initialisation with noise variables"
   ]
  },
  {
   "cell_type": "code",
   "execution_count": 6,
   "id": "dc3c3dcd-ae4b-49f9-8fd3-d9cf56fa72d4",
   "metadata": {},
   "outputs": [],
   "source": [
    "# Set information\n",
    "rule = kh.all_construction_rules  # construction rules to used\n",
    "k = 50  # number of aggregates per variable\n",
    "\n",
    "# Set data information\n",
    "(\n",
    "    data_path,\n",
    "    dictionary_file_path,\n",
    "    data_table_path,\n",
    "    secondary_table_list,\n",
    "    Additional_data_tables,\n",
    "    main_dictionary_name,\n",
    "    target,\n",
    ") = get_dataset(\"Accident_star\")"
   ]
  },
  {
   "cell_type": "code",
   "execution_count": 7,
   "id": "b74decbc-869b-4520-a0a7-9dd403eea428",
   "metadata": {},
   "outputs": [],
   "source": [
    "# Create dictionary with 10 noise variables if it doesn't already exist\n",
    "\n",
    "dictionary_file_path_noise = os.path.join(data_path, \"noisy_dictionary.kdic\")\n",
    "if not os.path.exists(dictionary_file_path_noise):\n",
    "    dictionary_domain_10, _ = add_noise(\n",
    "        kh.read_dictionary_file(dictionary_file_path), 10\n",
    "    )\n",
    "    dictionary_domain_10.export_khiops_dictionary_file(dictionary_file_path_noise)"
   ]
  },
  {
   "cell_type": "markdown",
   "id": "8597fc63-0f19-4aff-a7ca-13f2e3b516ba",
   "metadata": {},
   "source": [
    "<div style=\"background-color:LightBlue; text-align:center; vertical-align: middle; padding:10px 0;\">\n",
    "Create results and output directories"
   ]
  },
  {
   "cell_type": "code",
   "execution_count": 8,
   "id": "43a79eaf-16a5-4496-8222-4b86ea5e267d",
   "metadata": {},
   "outputs": [],
   "source": [
    "# Create results and output directories\n",
    "def create_directories(results_dir_name, output_dir_name):\n",
    "    results_dir = os.path.join(DataPath, results_dir_name)\n",
    "    if not os.path.exists(results_dir):\n",
    "        os.mkdir(results_dir)\n",
    "    output_dir = os.path.join(DataPath, output_dir_name)\n",
    "    if not os.path.exists(output_dir):\n",
    "        os.mkdir(output_dir)"
   ]
  },
  {
   "cell_type": "markdown",
   "id": "215b8ee1-7d42-4095-9754-a25c8e22c3ff",
   "metadata": {},
   "source": [
    "<div style=\"background-color:LightBlue; text-align:center; vertical-align: middle; padding:10px 0;\">\n",
    "Univariate Multitable Analysis"
   ]
  },
  {
   "cell_type": "code",
   "execution_count": 9,
   "id": "397219e2-c52f-41af-ac41-5d8122a33064",
   "metadata": {},
   "outputs": [],
   "source": [
    "def create_object_multitable_analysis(\n",
    "    exploration_type=\"Variable\",\n",
    "    count_effect_reduction=True,\n",
    "    results_dir=\"\",\n",
    "    output_dir=\"\",\n",
    "):\n",
    "    # Dictionary with 10 noise variable + filtering\n",
    "    # Create Analysis Variable object\n",
    "    obj = UnivariateMultitableAnalysis(\n",
    "        dictionary_file_path_noise,\n",
    "        main_dictionary_name,\n",
    "        data_table_path,\n",
    "        Additional_data_tables,\n",
    "        target,\n",
    "        exploration_type=exploration_type,\n",
    "        count_effect_reduction=count_effect_reduction,\n",
    "        max_constructed_variables_per_variable=k,\n",
    "        results_dir=results_dir,\n",
    "        output_dir=output_dir,\n",
    "    )\n",
    "    return obj"
   ]
  },
  {
   "cell_type": "markdown",
   "id": "be73a244-ebdb-4a06-90bb-82da4a8faa50",
   "metadata": {},
   "source": [
    "<div style=\"background-color:LightBlue; text-align:center; vertical-align: middle; padding:10px 0;\">\n",
    "Variable Selection Statistics"
   ]
  },
  {
   "cell_type": "code",
   "execution_count": 10,
   "id": "23798f37-4077-4806-9aa9-fbaf97813ee4",
   "metadata": {},
   "outputs": [],
   "source": [
    "def create_object_statistics(\n",
    "    exploration_type=\"Variable\",\n",
    "    count_effect_reduction=True,\n",
    "    output_dir=\"\",\n",
    "):\n",
    "    # Create Variable Statistics object\n",
    "    obj = VariableSelectionStatistics(\n",
    "        dictionary_file_path_noise,\n",
    "        main_dictionary_name,\n",
    "        exploration_type=exploration_type,\n",
    "        count_effect_reduction=count_effect_reduction,\n",
    "        output_dir=output_dir,\n",
    "    )\n",
    "    return obj"
   ]
  },
  {
   "cell_type": "markdown",
   "id": "f8f81cad",
   "metadata": {},
   "source": [
    "<div style=\"background-color:LightGreen; text-align:center; vertical-align: middle; padding:40px 0;\">\n",
    "    \n",
    "## analysis of the accident_star dataset"
   ]
  },
  {
   "cell_type": "markdown",
   "id": "8a44a650-ea5d-419d-9d72-3093292ffc5a",
   "metadata": {},
   "source": [
    "<div style=\"background-color:LightSalmon; text-align:center; vertical-align: middle; padding:10px 0;\">\n",
    "exploration_type = \"Variable\", count_effect_reduction = True"
   ]
  },
  {
   "cell_type": "code",
   "execution_count": 11,
   "id": "1a62722e-4e9d-4960-8360-e8b73c9b0bd7",
   "metadata": {},
   "outputs": [],
   "source": [
    "results_dir_var_true = \"output_khiops_variable\"\n",
    "output_dir_var_true = \"results_variable\""
   ]
  },
  {
   "cell_type": "markdown",
   "id": "4aefb76c-a8f5-4058-9f48-635861b6abb3",
   "metadata": {},
   "source": [
    "<div style=\"background-color:LightGreen; text-align:center; vertical-align: middle; padding:10px 0;\">\n",
    "univariate analysis of secondary table variables"
   ]
  },
  {
   "cell_type": "code",
   "execution_count": 14,
   "id": "061793bb-b20f-4b28-b1a4-da9f91f5fcd9",
   "metadata": {},
   "outputs": [],
   "source": [
    "# Create results and output directories\n",
    "create_directories(results_dir_var_true, output_dir_var_true)"
   ]
  },
  {
   "cell_type": "code",
   "execution_count": 15,
   "id": "996369f1-9a9c-43c4-99a4-264465a45222",
   "metadata": {},
   "outputs": [
    {
     "name": "stdout",
     "output_type": "stream",
     "text": [
      "table : Place\n"
     ]
    },
    {
     "name": "stderr",
     "output_type": "stream",
     "text": [
      "100%|██████████████████████████████████████████████████████████████████████████████████| 28/28 [00:25<00:00,  1.10it/s]\n"
     ]
    },
    {
     "name": "stdout",
     "output_type": "stream",
     "text": [
      "table : Vehicles\n",
      "discretization : group 1/2\n"
     ]
    },
    {
     "name": "stderr",
     "output_type": "stream",
     "text": [
      "100%|██████████████████████████████████████████████████████████████████████████████████| 19/19 [00:27<00:00,  1.46s/it]\n"
     ]
    },
    {
     "name": "stdout",
     "output_type": "stream",
     "text": [
      "discretization : group 2/2\n"
     ]
    },
    {
     "name": "stderr",
     "output_type": "stream",
     "text": [
      "100%|██████████████████████████████████████████████████████████████████████████████████| 19/19 [00:31<00:00,  1.65s/it]\n"
     ]
    },
    {
     "name": "stdout",
     "output_type": "stream",
     "text": [
      "table : Users\n",
      "discretization : group 1/3\n"
     ]
    },
    {
     "name": "stderr",
     "output_type": "stream",
     "text": [
      "100%|██████████████████████████████████████████████████████████████████████████████████| 23/23 [00:29<00:00,  1.30s/it]\n"
     ]
    },
    {
     "name": "stdout",
     "output_type": "stream",
     "text": [
      "discretization : group 2/3\n"
     ]
    },
    {
     "name": "stderr",
     "output_type": "stream",
     "text": [
      "100%|██████████████████████████████████████████████████████████████████████████████████| 23/23 [00:33<00:00,  1.46s/it]\n"
     ]
    },
    {
     "name": "stdout",
     "output_type": "stream",
     "text": [
      "discretization : group 3/3\n"
     ]
    },
    {
     "name": "stderr",
     "output_type": "stream",
     "text": [
      "100%|██████████████████████████████████████████████████████████████████████████████████| 23/23 [00:30<00:00,  1.32s/it]"
     ]
    },
    {
     "name": "stdout",
     "output_type": "stream",
     "text": [
      "CPU times: total: 312 ms\n",
      "Wall time: 3min 5s\n"
     ]
    },
    {
     "name": "stderr",
     "output_type": "stream",
     "text": [
      "\n"
     ]
    }
   ],
   "source": [
    "%%time\n",
    "\n",
    "obj_var_true = create_object_multitable_analysis(\n",
    "    results_dir=results_dir_var_true,\n",
    "    output_dir=output_dir_var_true,\n",
    ")\n",
    "\n",
    "# Compute importance variable list\n",
    "variable_importance_dictionary_var_true = obj_var_true.variables_analysis()"
   ]
  },
  {
   "cell_type": "markdown",
   "id": "7ae4f5a0-9f07-4bc4-ba5a-441c150c50b9",
   "metadata": {},
   "source": [
    "<div style=\"background-color:LightGreen; text-align:center; vertical-align: middle; padding:10px 0;\">\n",
    "statistics from univariate analysis of secondary table variables"
   ]
  },
  {
   "cell_type": "code",
   "execution_count": 15,
   "id": "850813c1-9b70-45ec-9593-fc49a923956b",
   "metadata": {},
   "outputs": [
    {
     "name": "stdout",
     "output_type": "stream",
     "text": [
      "file \"results_variable\\primitive_exploration.json\" doesn't exist\n"
     ]
    }
   ],
   "source": [
    "# Create Variable Statistics object\n",
    "obj_stat_var_true = create_object_statistics(\n",
    "    output_dir=output_dir_var_true,\n",
    ")\n",
    "\n",
    "# get variable importance and primitive importance dataframes\n",
    "df_variable_exploration_var_true = obj_stat_var_true.get_variables_analysis()"
   ]
  },
  {
   "cell_type": "code",
   "execution_count": 16,
   "id": "7abc31e9-dced-4bcc-bddd-dff7e1961b36",
   "metadata": {},
   "outputs": [],
   "source": [
    "# write text report\n",
    "obj_stat_var_true.write_txt_report(df_variable_exploration_var_true)"
   ]
  },
  {
   "cell_type": "code",
   "execution_count": 17,
   "id": "9d89edaa-492e-43e5-83b8-8ec2e5351669",
   "metadata": {},
   "outputs": [
    {
     "name": "stdout",
     "output_type": "stream",
     "text": [
      "['AccidentId', 'RoadType', 'RoadNumber', 'RoadSecNumber', 'RoadLetter', 'Circulation', 'LaneNumber', 'SpecialLane', 'Slope', 'RoadMarkerId', 'RoadMarkerDistance', 'Layout', 'StripWidth', 'LaneWidth', 'SurfaceCondition', 'Infrastructure', 'Localization', 'SchoolNear', 'N_0', 'C_0', 'N_1', 'C_1', 'N_2', 'C_2', 'N_3', 'C_3', 'N_4', 'C_4', 'AccidentId', 'VehicleId', 'Direction', 'Category', 'PassengerNumber', 'FixedObstacle', 'MobileObstacle', 'ImpactPoint', 'Maneuver', 'N_10', 'C_10', 'N_11', 'C_11', 'N_12', 'C_12', 'N_13', 'C_13', 'N_14', 'C_14', 'AccidentId', 'VehicleId', 'Seat', 'Category', 'Gender', 'TripReason', 'SafetyDevice', 'SafetyDeviceUsed', 'PedestrianLocation', 'PedestrianAction', 'PedestrianCompany', 'BirthYear', 'N_5', 'C_5', 'N_6', 'C_6', 'N_7', 'C_7', 'N_8', 'C_8', 'N_9', 'C_9']\n",
      "nb de variables avec level nul : 28\n"
     ]
    }
   ],
   "source": [
    "# statistics from variable analysis\n",
    "\n",
    "list_var_var_true = obj_stat_var_true.get_list_variable(\n",
    "    df_variable_exploration_var_true\n",
    ")\n",
    "print(list_var_var_true)\n",
    "\n",
    "nb_zero_var_true = obj_stat_var_true.get_variable_number_zero_level(\n",
    "    df_variable_exploration_var_true\n",
    ")\n",
    "print(\"number of variables with level zero : \" + str(nb_zero_var_true))"
   ]
  },
  {
   "cell_type": "markdown",
   "id": "03a593c2",
   "metadata": {},
   "source": [
    "<div style=\"background-color:LimeGreen; text-align:center; vertical-align: middle; padding:40px 0;\">\n",
    "\n",
    "## analysis of the accident_star dataset without discretisation"
   ]
  },
  {
   "cell_type": "markdown",
   "id": "7e6604ac-a66f-443c-b473-92d0a4133285",
   "metadata": {},
   "source": [
    "<div style=\"background-color:LightSalmon; text-align:center; vertical-align: middle; padding:10px 0;\">\n",
    "exploration_type = \"Variable\", count_effect_reduction = False"
   ]
  },
  {
   "cell_type": "code",
   "execution_count": 18,
   "id": "fa47317d-10ed-44bf-8bde-e731977a9e37",
   "metadata": {},
   "outputs": [],
   "source": [
    "count_effect_reduction_false = False\n",
    "results_dir_var_false = \"output_khiops_variable_no_discretisation\"\n",
    "output_dir_var_false = \"results_variable_no_discretisation\""
   ]
  },
  {
   "cell_type": "markdown",
   "id": "ef41841a-283f-48c3-b9c6-a6b2192af406",
   "metadata": {},
   "source": [
    "<div style=\"background-color:LightGreen; text-align:center; vertical-align: middle; padding:10px 0;\">\n",
    "univariate analysis of secondary table variables"
   ]
  },
  {
   "cell_type": "code",
   "execution_count": 19,
   "id": "50e7f1a0-8304-4c25-8168-6b209cadb2dc",
   "metadata": {},
   "outputs": [],
   "source": [
    "# Create results and output directories\n",
    "create_directories(results_dir_var_false, output_dir_var_false)"
   ]
  },
  {
   "cell_type": "code",
   "execution_count": 20,
   "id": "31cf383f-3b29-4f3b-a97a-b33a796a461e",
   "metadata": {},
   "outputs": [
    {
     "name": "stdout",
     "output_type": "stream",
     "text": [
      "table : Place\n"
     ]
    },
    {
     "name": "stderr",
     "output_type": "stream",
     "text": [
      "100%|██████████████████████████████████████████████████████████████████████████████████| 28/28 [00:30<00:00,  1.11s/it]\n"
     ]
    },
    {
     "name": "stdout",
     "output_type": "stream",
     "text": [
      "table : Vehicles\n"
     ]
    },
    {
     "name": "stderr",
     "output_type": "stream",
     "text": [
      "100%|██████████████████████████████████████████████████████████████████████████████████| 19/19 [00:40<00:00,  2.12s/it]\n"
     ]
    },
    {
     "name": "stdout",
     "output_type": "stream",
     "text": [
      "table : Users\n"
     ]
    },
    {
     "name": "stderr",
     "output_type": "stream",
     "text": [
      "100%|██████████████████████████████████████████████████████████████████████████████████| 23/23 [00:42<00:00,  1.86s/it]"
     ]
    },
    {
     "name": "stdout",
     "output_type": "stream",
     "text": [
      "CPU times: total: 125 ms\n",
      "Wall time: 1min 54s\n"
     ]
    },
    {
     "name": "stderr",
     "output_type": "stream",
     "text": [
      "\n"
     ]
    }
   ],
   "source": [
    "%%time\n",
    "\n",
    "obj_var_false = create_object_multitable_analysis(\n",
    "    count_effect_reduction=count_effect_reduction_false,\n",
    "    results_dir=results_dir_var_false,\n",
    "    output_dir=output_dir_var_false,\n",
    ")\n",
    "\n",
    "# Compute importance variable list\n",
    "variable_importance_dictionary_var_false = obj_var_false.variables_analysis()"
   ]
  },
  {
   "cell_type": "markdown",
   "id": "cd2cbf4d-4c48-4e63-a21d-fec7540dfc3e",
   "metadata": {},
   "source": [
    "<div style=\"background-color:LightGreen; text-align:center; vertical-align: middle; padding:10px 0;\">\n",
    "statistics from univariate analysis of secondary table variables"
   ]
  },
  {
   "cell_type": "code",
   "execution_count": 21,
   "id": "03fd87b4-fd50-4f07-becc-8f8e2509cb74",
   "metadata": {},
   "outputs": [
    {
     "name": "stdout",
     "output_type": "stream",
     "text": [
      "file \"results_variable_no_discretisation\\primitive_exploration.json\" doesn't exist\n"
     ]
    }
   ],
   "source": [
    "# Create Variable Statistics object\n",
    "obj_stat_var_false = create_object_statistics(\n",
    "    count_effect_reduction=count_effect_reduction_false,\n",
    "    output_dir=output_dir_var_false,\n",
    ")\n",
    "\n",
    "# get variable importance and primitive importance dataframes\n",
    "df_variable_exploration_var_false = obj_stat_var_false.get_variables_analysis()"
   ]
  },
  {
   "cell_type": "code",
   "execution_count": 22,
   "id": "87bf2b1b-573c-4911-bf19-431a89f56cdb",
   "metadata": {},
   "outputs": [],
   "source": [
    "# write text report\n",
    "obj_stat_var_false.write_txt_report(df_variable_exploration_var_false)"
   ]
  },
  {
   "cell_type": "code",
   "execution_count": 23,
   "id": "b1ace1ab-0b00-4b01-8de2-ae7cb39e2f43",
   "metadata": {},
   "outputs": [
    {
     "name": "stdout",
     "output_type": "stream",
     "text": [
      "['AccidentId', 'RoadType', 'RoadNumber', 'RoadSecNumber', 'RoadLetter', 'Circulation', 'LaneNumber', 'SpecialLane', 'Slope', 'RoadMarkerId', 'RoadMarkerDistance', 'Layout', 'StripWidth', 'LaneWidth', 'SurfaceCondition', 'Infrastructure', 'Localization', 'SchoolNear', 'N_0', 'C_0', 'N_1', 'C_1', 'N_2', 'C_2', 'N_3', 'C_3', 'N_4', 'C_4', 'AccidentId', 'VehicleId', 'Direction', 'Category', 'PassengerNumber', 'FixedObstacle', 'MobileObstacle', 'ImpactPoint', 'Maneuver', 'N_10', 'C_10', 'N_11', 'C_11', 'N_12', 'C_12', 'N_13', 'C_13', 'N_14', 'C_14', 'AccidentId', 'VehicleId', 'Seat', 'Category', 'Gender', 'TripReason', 'SafetyDevice', 'SafetyDeviceUsed', 'PedestrianLocation', 'PedestrianAction', 'PedestrianCompany', 'BirthYear', 'N_5', 'C_5', 'N_6', 'C_6', 'N_7', 'C_7', 'N_8', 'C_8', 'N_9', 'C_9']\n",
      "nb de variables avec level nul : 15\n"
     ]
    }
   ],
   "source": [
    "# statistics from variable analysis\n",
    "\n",
    "list_var_var_false = obj_stat_var_false.get_list_variable(\n",
    "    df_variable_exploration_var_false\n",
    ")\n",
    "print(list_var_var_false)\n",
    "\n",
    "nb_zero_var_false = obj_stat_var_false.get_variable_number_zero_level(\n",
    "    df_variable_exploration_var_false\n",
    ")\n",
    "print(\"number of variables with level zero : \" + str(nb_zero_var_false))"
   ]
  },
  {
   "cell_type": "code",
   "execution_count": null,
   "id": "736289cd-ac08-4c2e-8515-c2c9b430dfdd",
   "metadata": {},
   "outputs": [],
   "source": []
  }
 ],
 "metadata": {
  "kernelspec": {
   "display_name": "Python 3 (ipykernel)",
   "language": "python",
   "name": "python3"
  },
  "language_info": {
   "codemirror_mode": {
    "name": "ipython",
    "version": 3
   },
   "file_extension": ".py",
   "mimetype": "text/x-python",
   "name": "python",
   "nbconvert_exporter": "python",
   "pygments_lexer": "ipython3",
   "version": "3.11.9"
  }
 },
 "nbformat": 4,
 "nbformat_minor": 5
}
